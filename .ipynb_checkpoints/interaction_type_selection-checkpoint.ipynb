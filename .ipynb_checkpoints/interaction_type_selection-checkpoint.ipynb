{
 "cells": [
  {
   "cell_type": "markdown",
   "id": "0f1e19f0",
   "metadata": {},
   "source": [
    "##### This notebook is used to divide systems according to their type of interaction when they still consisted of a pair of stars.\n",
    "Interactions are divided between: at least 1 Common Envelope `CE`, stable Mass Transfer `MT`, Non Interacting `NI`. \n",
    "The (unique) names of the systems and the associated flag (`type` column) are used in plots of the relevant feature pairs* (for systems where at some point in evolution one of the two objects becomes a BH), so as to understand what the evolutionary channel of that system was and what pair of parameters relates back to that evolutionary channel.\n",
    "\n",
    "_*see the `bhms_plotting` notebook_"
   ]
  },
  {
   "cell_type": "code",
   "execution_count": 28,
   "id": "6d057451",
   "metadata": {},
   "outputs": [],
   "source": [
    "# Importing packages\n",
    "\n",
    "import numpy as np\n",
    "import pandas as pd\n",
    "\n",
    "import dask\n",
    "import dask.dataframe as dd\n",
    "\n",
    "%matplotlib inline\n",
    "\n",
    "pd.set_option('display.max_columns', None)"
   ]
  },
  {
   "cell_type": "code",
   "execution_count": 29,
   "id": "adca9855",
   "metadata": {},
   "outputs": [],
   "source": [
    "outputs = dd.read_csv('./data/sevn_output_Z0.0001A1L1/data_0/output_*.csv')"
   ]
  },
  {
   "cell_type": "code",
   "execution_count": 30,
   "id": "58fc5605",
   "metadata": {},
   "outputs": [],
   "source": [
    "# Selecting systems that are in the evolutionary phase of two stars\n",
    "# Selecting only `name` and `BEvent` column\n",
    "\n",
    "mask = (((outputs['RemnantType_0'] == 0)) & (outputs['RemnantType_1'] == 0))\n",
    "msms_df = outputs[mask]\n",
    "msms_df = msms_df[['name', 'BEvent']]"
   ]
  },
  {
   "cell_type": "code",
   "execution_count": 31,
   "id": "db549c90",
   "metadata": {
    "scrolled": true
   },
   "outputs": [],
   "source": [
    "# Creating a mask in order to select the sys that went through at least 1 Common Envelop\n",
    "mask_CE = (msms_df['BEvent'].isin([7, 9, 11, 12, 14, 15]))\n",
    "\n",
    "masked_ce = msms_df[mask_CE]\n",
    "\n",
    "# Creating a new dataframe containing the unique name \n",
    "# of the systems previously selected\n",
    "masked_CE = pd.DataFrame()\n",
    "masked_CE['name'] = (masked_ce['name'].unique())\n",
    "masked_CE['type'] = 'CE'"
   ]
  },
  {
   "cell_type": "code",
   "execution_count": 32,
   "id": "f1276383",
   "metadata": {},
   "outputs": [],
   "source": [
    "# Merging the original dataframe to the masked one, \n",
    "# to add, at each row, the type of interaction: in this case CE\n",
    "\n",
    "out_masked = msms_df.merge(masked_CE, on=['name'], how='left')"
   ]
  },
  {
   "cell_type": "code",
   "execution_count": 33,
   "id": "8c6f41d5",
   "metadata": {},
   "outputs": [
    {
     "data": {
      "text/html": [
       "<div>\n",
       "<style scoped>\n",
       "    .dataframe tbody tr th:only-of-type {\n",
       "        vertical-align: middle;\n",
       "    }\n",
       "\n",
       "    .dataframe tbody tr th {\n",
       "        vertical-align: top;\n",
       "    }\n",
       "\n",
       "    .dataframe thead th {\n",
       "        text-align: right;\n",
       "    }\n",
       "</style>\n",
       "<table border=\"1\" class=\"dataframe\">\n",
       "  <thead>\n",
       "    <tr style=\"text-align: right;\">\n",
       "      <th></th>\n",
       "      <th>name</th>\n",
       "      <th>BEvent</th>\n",
       "      <th>type</th>\n",
       "    </tr>\n",
       "  </thead>\n",
       "  <tbody>\n",
       "    <tr>\n",
       "      <th>0</th>\n",
       "      <td>0_727853901419926</td>\n",
       "      <td>-1</td>\n",
       "      <td>NaN</td>\n",
       "    </tr>\n",
       "    <tr>\n",
       "      <th>1</th>\n",
       "      <td>0_727853901419926</td>\n",
       "      <td>0</td>\n",
       "      <td>NaN</td>\n",
       "    </tr>\n",
       "    <tr>\n",
       "      <th>2</th>\n",
       "      <td>0_727853901419926</td>\n",
       "      <td>0</td>\n",
       "      <td>NaN</td>\n",
       "    </tr>\n",
       "    <tr>\n",
       "      <th>3</th>\n",
       "      <td>0_727853901419926</td>\n",
       "      <td>0</td>\n",
       "      <td>NaN</td>\n",
       "    </tr>\n",
       "    <tr>\n",
       "      <th>4</th>\n",
       "      <td>0_727853901419926</td>\n",
       "      <td>0</td>\n",
       "      <td>NaN</td>\n",
       "    </tr>\n",
       "  </tbody>\n",
       "</table>\n",
       "</div>"
      ],
      "text/plain": [
       "                name  BEvent type\n",
       "0  0_727853901419926      -1  NaN\n",
       "1  0_727853901419926       0  NaN\n",
       "2  0_727853901419926       0  NaN\n",
       "3  0_727853901419926       0  NaN\n",
       "4  0_727853901419926       0  NaN"
      ]
     },
     "execution_count": 33,
     "metadata": {},
     "output_type": "execute_result"
    }
   ],
   "source": [
    "out_masked.head()"
   ]
  },
  {
   "cell_type": "code",
   "execution_count": 34,
   "id": "ef12c75c",
   "metadata": {
    "scrolled": false
   },
   "outputs": [],
   "source": [
    "# Creating a mask in order to select the sys that went through a stable Mass Transfer AND NOT a CE\n",
    "mask_MT = (out_masked['BEvent'].isin([4, 5, 6, 8, 10, 13, 16, 17, 18, 19, 20]) & (out_masked['type']!='CE'))\n",
    "\n",
    "masked_mt = out_masked[mask_MT]\n",
    "\n",
    "# Creating a new dataframe containing the unique name \n",
    "# of the systems previously selected\n",
    "masked_MT = pd.DataFrame()\n",
    "masked_MT['name'] = (masked_mt['name'].unique())\n",
    "masked_MT['type'] = 'MT'"
   ]
  },
  {
   "cell_type": "code",
   "execution_count": 35,
   "id": "af6297a5",
   "metadata": {},
   "outputs": [],
   "source": [
    "# Merging the original dataframe to the masked one, \n",
    "# to add, at each row, the type of interaction: in this case MT\n",
    "\n",
    "out_masked_1 = out_masked.merge(masked_MT, on=['name'], how='left')"
   ]
  },
  {
   "cell_type": "code",
   "execution_count": 36,
   "id": "91c5358c",
   "metadata": {},
   "outputs": [
    {
     "data": {
      "text/html": [
       "<div>\n",
       "<style scoped>\n",
       "    .dataframe tbody tr th:only-of-type {\n",
       "        vertical-align: middle;\n",
       "    }\n",
       "\n",
       "    .dataframe tbody tr th {\n",
       "        vertical-align: top;\n",
       "    }\n",
       "\n",
       "    .dataframe thead th {\n",
       "        text-align: right;\n",
       "    }\n",
       "</style>\n",
       "<table border=\"1\" class=\"dataframe\">\n",
       "  <thead>\n",
       "    <tr style=\"text-align: right;\">\n",
       "      <th></th>\n",
       "      <th>name</th>\n",
       "      <th>BEvent</th>\n",
       "      <th>type_x</th>\n",
       "      <th>type_y</th>\n",
       "    </tr>\n",
       "  </thead>\n",
       "  <tbody>\n",
       "    <tr>\n",
       "      <th>0</th>\n",
       "      <td>0_727853901419926</td>\n",
       "      <td>-1</td>\n",
       "      <td>NaN</td>\n",
       "      <td>NaN</td>\n",
       "    </tr>\n",
       "    <tr>\n",
       "      <th>1</th>\n",
       "      <td>0_727853901419926</td>\n",
       "      <td>0</td>\n",
       "      <td>NaN</td>\n",
       "      <td>NaN</td>\n",
       "    </tr>\n",
       "    <tr>\n",
       "      <th>2</th>\n",
       "      <td>0_727853901419926</td>\n",
       "      <td>0</td>\n",
       "      <td>NaN</td>\n",
       "      <td>NaN</td>\n",
       "    </tr>\n",
       "    <tr>\n",
       "      <th>3</th>\n",
       "      <td>0_727853901419926</td>\n",
       "      <td>0</td>\n",
       "      <td>NaN</td>\n",
       "      <td>NaN</td>\n",
       "    </tr>\n",
       "    <tr>\n",
       "      <th>4</th>\n",
       "      <td>0_727853901419926</td>\n",
       "      <td>0</td>\n",
       "      <td>NaN</td>\n",
       "      <td>NaN</td>\n",
       "    </tr>\n",
       "  </tbody>\n",
       "</table>\n",
       "</div>"
      ],
      "text/plain": [
       "                name  BEvent type_x type_y\n",
       "0  0_727853901419926      -1    NaN    NaN\n",
       "1  0_727853901419926       0    NaN    NaN\n",
       "2  0_727853901419926       0    NaN    NaN\n",
       "3  0_727853901419926       0    NaN    NaN\n",
       "4  0_727853901419926       0    NaN    NaN"
      ]
     },
     "execution_count": 36,
     "metadata": {},
     "output_type": "execute_result"
    }
   ],
   "source": [
    "out_masked_1.head()"
   ]
  },
  {
   "cell_type": "code",
   "execution_count": 37,
   "id": "a3523333",
   "metadata": {
    "scrolled": true
   },
   "outputs": [
    {
     "data": {
      "text/html": [
       "<div>\n",
       "<style scoped>\n",
       "    .dataframe tbody tr th:only-of-type {\n",
       "        vertical-align: middle;\n",
       "    }\n",
       "\n",
       "    .dataframe tbody tr th {\n",
       "        vertical-align: top;\n",
       "    }\n",
       "\n",
       "    .dataframe thead th {\n",
       "        text-align: right;\n",
       "    }\n",
       "</style>\n",
       "<table border=\"1\" class=\"dataframe\">\n",
       "  <thead>\n",
       "    <tr style=\"text-align: right;\">\n",
       "      <th></th>\n",
       "      <th>name</th>\n",
       "      <th>BEvent</th>\n",
       "      <th>type</th>\n",
       "    </tr>\n",
       "  </thead>\n",
       "  <tbody>\n",
       "    <tr>\n",
       "      <th>0</th>\n",
       "      <td>0_727853901419926</td>\n",
       "      <td>-1</td>\n",
       "      <td>NaN</td>\n",
       "    </tr>\n",
       "    <tr>\n",
       "      <th>1</th>\n",
       "      <td>0_727853901419926</td>\n",
       "      <td>0</td>\n",
       "      <td>NaN</td>\n",
       "    </tr>\n",
       "    <tr>\n",
       "      <th>2</th>\n",
       "      <td>0_727853901419926</td>\n",
       "      <td>0</td>\n",
       "      <td>NaN</td>\n",
       "    </tr>\n",
       "    <tr>\n",
       "      <th>3</th>\n",
       "      <td>0_727853901419926</td>\n",
       "      <td>0</td>\n",
       "      <td>NaN</td>\n",
       "    </tr>\n",
       "    <tr>\n",
       "      <th>4</th>\n",
       "      <td>0_727853901419926</td>\n",
       "      <td>0</td>\n",
       "      <td>NaN</td>\n",
       "    </tr>\n",
       "  </tbody>\n",
       "</table>\n",
       "</div>"
      ],
      "text/plain": [
       "                name  BEvent type\n",
       "0  0_727853901419926      -1  NaN\n",
       "1  0_727853901419926       0  NaN\n",
       "2  0_727853901419926       0  NaN\n",
       "3  0_727853901419926       0  NaN\n",
       "4  0_727853901419926       0  NaN"
      ]
     },
     "execution_count": 37,
     "metadata": {},
     "output_type": "execute_result"
    }
   ],
   "source": [
    "# Combining the two new column generated after the merge\n",
    "out_masked_1['type'] = out_masked_1['type_x'].combine_first(out_masked_1['type_y'])\n",
    "\n",
    "# Removing the cols\n",
    "out_masked_1 = out_masked_1.drop(['type_x', 'type_y'], 1)\n",
    "\n",
    "out_masked_1.head()"
   ]
  },
  {
   "cell_type": "code",
   "execution_count": 38,
   "id": "010a47fc",
   "metadata": {
    "scrolled": true
   },
   "outputs": [
    {
     "data": {
      "text/html": [
       "<div>\n",
       "<style scoped>\n",
       "    .dataframe tbody tr th:only-of-type {\n",
       "        vertical-align: middle;\n",
       "    }\n",
       "\n",
       "    .dataframe tbody tr th {\n",
       "        vertical-align: top;\n",
       "    }\n",
       "\n",
       "    .dataframe thead th {\n",
       "        text-align: right;\n",
       "    }\n",
       "</style>\n",
       "<table border=\"1\" class=\"dataframe\">\n",
       "  <thead>\n",
       "    <tr style=\"text-align: right;\">\n",
       "      <th></th>\n",
       "      <th>name</th>\n",
       "      <th>BEvent</th>\n",
       "      <th>type</th>\n",
       "    </tr>\n",
       "  </thead>\n",
       "  <tbody>\n",
       "    <tr>\n",
       "      <th>0</th>\n",
       "      <td>0_727853901419926</td>\n",
       "      <td>-1</td>\n",
       "      <td>NI</td>\n",
       "    </tr>\n",
       "    <tr>\n",
       "      <th>1</th>\n",
       "      <td>0_727853901419926</td>\n",
       "      <td>0</td>\n",
       "      <td>NI</td>\n",
       "    </tr>\n",
       "    <tr>\n",
       "      <th>2</th>\n",
       "      <td>0_727853901419926</td>\n",
       "      <td>0</td>\n",
       "      <td>NI</td>\n",
       "    </tr>\n",
       "    <tr>\n",
       "      <th>3</th>\n",
       "      <td>0_727853901419926</td>\n",
       "      <td>0</td>\n",
       "      <td>NI</td>\n",
       "    </tr>\n",
       "    <tr>\n",
       "      <th>4</th>\n",
       "      <td>0_727853901419926</td>\n",
       "      <td>0</td>\n",
       "      <td>NI</td>\n",
       "    </tr>\n",
       "  </tbody>\n",
       "</table>\n",
       "</div>"
      ],
      "text/plain": [
       "                name  BEvent type\n",
       "0  0_727853901419926      -1   NI\n",
       "1  0_727853901419926       0   NI\n",
       "2  0_727853901419926       0   NI\n",
       "3  0_727853901419926       0   NI\n",
       "4  0_727853901419926       0   NI"
      ]
     },
     "execution_count": 38,
     "metadata": {},
     "output_type": "execute_result"
    }
   ],
   "source": [
    "# Filling the remaining rows (NaN) with the Non Interacting flag\n",
    "\n",
    "out_masked_1['type'] = out_masked_1['type'].fillna('NI')\n",
    "out_masked_1.head()"
   ]
  },
  {
   "cell_type": "code",
   "execution_count": 39,
   "id": "a75eaab4",
   "metadata": {},
   "outputs": [],
   "source": [
    "# Dropping duplicated `name` rows in order to save a lightweight file\n",
    "type_df = out_masked_1.drop_duplicates(subset=['name'], keep='first')"
   ]
  },
  {
   "cell_type": "code",
   "execution_count": 40,
   "id": "eb3c8f83",
   "metadata": {},
   "outputs": [],
   "source": [
    "# Saving the file\n",
    "type_df.compute().to_csv('./data/sevn_output_Z0.0001A1L1/type/type_df.csv')"
   ]
  },
  {
   "cell_type": "code",
   "execution_count": null,
   "id": "65270194",
   "metadata": {},
   "outputs": [],
   "source": []
  }
 ],
 "metadata": {
  "kernelspec": {
   "display_name": "py38",
   "language": "python",
   "name": "py38"
  },
  "language_info": {
   "codemirror_mode": {
    "name": "ipython",
    "version": 3
   },
   "file_extension": ".py",
   "mimetype": "text/x-python",
   "name": "python",
   "nbconvert_exporter": "python",
   "pygments_lexer": "ipython3",
   "version": "3.8.16"
  }
 },
 "nbformat": 4,
 "nbformat_minor": 5
}
