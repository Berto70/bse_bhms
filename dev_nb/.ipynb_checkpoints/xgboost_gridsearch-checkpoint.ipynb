{
 "cells": [
  {
   "cell_type": "code",
   "execution_count": 1,
   "id": "83dfab94",
   "metadata": {},
   "outputs": [],
   "source": [
    "import pandas as pd \n",
    "\n",
    "import pandas as pd\n",
    "from sklearn.model_selection import train_test_split\n",
    "from sklearn.preprocessing import StandardScaler, LabelEncoder\n",
    "from sklearn.metrics import accuracy_score, precision_score, recall_score, f1_score\n",
    "from xgboost import XGBClassifier\n",
    "from sklearn.metrics import ConfusionMatrixDisplay\n",
    "from sklearn.metrics import confusion_matrix, classification_report\n",
    "from sklearn.model_selection import GridSearchCV\n",
    "from sklearn.utils import shuffle"
   ]
  },
  {
   "cell_type": "code",
   "execution_count": null,
   "id": "f158a342",
   "metadata": {
    "scrolled": true
   },
   "outputs": [],
   "source": [
    "data_a05 = pd.read_csv('../../data_z02_001_0001_a05.csv')\n",
    "data_a1 = pd.read_csv('../../data_z02_001_0001_a1.csv')\n",
    "data_a5 = pd.read_csv('../../data_z02_001_0001_a5.csv')\n",
    "\n",
    "data_tot = pd.concat([data_a05, data_a1, data_a5])\n",
    "\n",
    "\n",
    "NI = shuffle(data_tot[data_tot['type']=='NI']).head(430242)\n",
    "MT = shuffle(data_tot[data_tot['type']=='MT']).head(430242)\n",
    "CE = shuffle(data_tot[data_tot['type']=='CE'])\n",
    "balanced_data = pd.concat([NI, MT,CE])\n",
    "\n",
    "shuffle_data = shuffle(balanced_data)"
   ]
  },
  {
   "cell_type": "code",
   "execution_count": null,
   "id": "b0ea2417",
   "metadata": {
    "scrolled": true
   },
   "outputs": [],
   "source": [
    "%%time\n",
    "# Load the dataset\n",
    "data = shuffle_data\n",
    "\n",
    "# Separate the features and labels\n",
    "X = data[['Mass_BH', 'Mass_1', 'logP']]\n",
    "y = data['type']\n",
    "\n",
    "selected_columns = ['Mass_BH', 'Mass_1', 'logP']\n",
    "scaler = StandardScaler()\n",
    "X[selected_columns] = scaler.fit_transform(X[selected_columns])\n",
    "\n",
    "# Perform label encoding on the labels\n",
    "label_encoder = LabelEncoder()\n",
    "y = label_encoder.fit_transform(y)\n",
    "\n",
    "# Split the data into train and test sets\n",
    "X_train, X_test, y_train, y_test = train_test_split(X, y, test_size=0.2, random_state=42)\n",
    "\n",
    "# Grid search for learning_rate\n",
    "learning_rate_grid = {\n",
    "    'learning_rate': [1, 2, 5]\n",
    "}\n",
    "\n",
    "xgb_classifier = XGBClassifier(n_jobs=10)\n",
    "learning_rate_search = GridSearchCV(xgb_classifier, learning_rate_grid, scoring='accuracy', cv=3)\n",
    "learning_rate_search.fit(X_train, y_train)\n",
    "best_learning_rate = learning_rate_search.best_params_['learning_rate']\n",
    "\n",
    "# Grid search for max_depth\n",
    "max_depth_grid = {\n",
    "    'max_depth': [7, 10, 20, 50]\n",
    "}\n",
    "\n",
    "xgb_classifier = XGBClassifier(n_jobs=10, learning_rate=best_learning_rate)\n",
    "max_depth_search = GridSearchCV(xgb_classifier, max_depth_grid, scoring='accuracy', cv=3)\n",
    "max_depth_search.fit(X_train, y_train)\n",
    "best_max_depth = max_depth_search.best_params_['max_depth']\n",
    "\n",
    "# Grid search for n_estimators\n",
    "n_estimators_grid = {\n",
    "    'n_estimators': [300, 500, 1000]\n",
    "}\n",
    "\n",
    "xgb_classifier = XGBClassifier(n_jobs=10, learning_rate=best_learning_rate, max_depth=best_max_depth)\n",
    "n_estimators_search = GridSearchCV(xgb_classifier, n_estimators_grid, scoring='accuracy', cv=3)\n",
    "n_estimators_search.fit(X_train, y_train)\n",
    "best_n_estimators = n_estimators_search.best_params_['n_estimators']\n",
    "\n",
    "# Train the classifier with the best hyperparameters\n",
    "best_classifier = XGBClassifier(n_jobs=10, learning_rate=best_learning_rate, max_depth=best_max_depth, n_estimators=best_n_estimators)\n",
    "best_classifier.fit(X_train, y_train)\n",
    "\n",
    "# Predict on the validation set using the best classifier\n",
    "y_pred = best_classifier.predict(X_test)\n",
    "\n",
    "# Calculate and print the evaluation scores\n",
    "accuracy = accuracy_score(y_test, y_pred)\n",
    "print(\"Accuracy:\", accuracy)"
   ]
  },
  {
   "cell_type": "code",
   "execution_count": null,
   "id": "b5fee168",
   "metadata": {
    "scrolled": true
   },
   "outputs": [],
   "source": [
    "print(best_learning_rate)\n",
    "print(best_max_depth)\n",
    "print(best_n_estimators)\n",
    "print(best_classifier)"
   ]
  },
  {
   "cell_type": "code",
   "execution_count": null,
   "id": "6eba8405",
   "metadata": {},
   "outputs": [],
   "source": []
  }
 ],
 "metadata": {
  "kernelspec": {
   "display_name": "Python 3 (ipykernel)",
   "language": "python",
   "name": "python3"
  },
  "language_info": {
   "codemirror_mode": {
    "name": "ipython",
    "version": 3
   },
   "file_extension": ".py",
   "mimetype": "text/x-python",
   "name": "python",
   "nbconvert_exporter": "python",
   "pygments_lexer": "ipython3",
   "version": "3.10.10"
  }
 },
 "nbformat": 4,
 "nbformat_minor": 5
}
